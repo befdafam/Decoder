{
 "cells": [
  {
   "cell_type": "code",
   "execution_count": 13,
   "metadata": {},
   "outputs": [],
   "source": [
    "from utils import *"
   ]
  },
  {
   "cell_type": "code",
   "execution_count": 14,
   "metadata": {},
   "outputs": [
    {
     "name": "stdout",
     "output_type": "stream",
     "text": [
      "[0, 1, 2, 3, 4, 5, 6, 7, 8, 9, 10, 11, 12, 13, 14, 15, 16, 17, 18, 19, 20, 21, 22, 23, 24, 25]\n"
     ]
    }
   ],
   "source": [
    "key=list(range(0, 26))\n",
    "print(key)"
   ]
  },
  {
   "cell_type": "code",
   "execution_count": 15,
   "metadata": {},
   "outputs": [],
   "source": [
    "def shift_key(number):\n",
    "    key=list(range(0, 26))\n",
    "    for i in range (number):\n",
    "        shifting=int(key[0])\n",
    "        key.pop(0)\n",
    "        key.append(shifting)\n",
    "    return key"
   ]
  },
  {
   "cell_type": "code",
   "execution_count": 16,
   "metadata": {},
   "outputs": [
    {
     "name": "stdout",
     "output_type": "stream",
     "text": [
      "[10, 11, 12, 13, 14, 15, 16, 17, 18, 19, 20, 21, 22, 23, 24, 25, 0, 1, 2, 3, 4, 5, 6, 7, 8, 9]\n"
     ]
    }
   ],
   "source": [
    "print(shift_key(10))"
   ]
  },
  {
   "cell_type": "code",
   "execution_count": 29,
   "metadata": {},
   "outputs": [],
   "source": [
    "#encodes a given plaintext using a given vigenere key\n",
    "def encode_vigenere(text,key):\n",
    "    text=extract_characters(text)\n",
    "    listNum = text_to_num(text)\n",
    "    #make keynum list, find length and set index to 0\n",
    "    keyNum= text_to_num(key)\n",
    "    keyLen=len(keyNum)\n",
    "    ki=0\n",
    "    #find the shift for each letter\n",
    "    for i in range (len(listNum)):\n",
    "        shift=keyNum[ki]\n",
    "        currentKey=shift_key(shift)\n",
    "        if listNum[i] != 26:\n",
    "            listNum[i]= currentKey[listNum[i]]\n",
    "        ki+=1\n",
    "        if ki>keyLen-1:\n",
    "            ki=0\n",
    "    return num_to_text(listNum)"
   ]
  },
  {
   "cell_type": "code",
   "execution_count": 30,
   "metadata": {},
   "outputs": [
    {
     "name": "stdout",
     "output_type": "stream",
     "text": [
      "tiit js mz gihhu toog\n"
     ]
    }
   ],
   "source": [
    "text=\"this is my fight song\"\n",
    "vig=encode_vigenere(text, 'ab')\n",
    "print(vig)"
   ]
  },
  {
   "cell_type": "code",
   "execution_count": null,
   "metadata": {},
   "outputs": [],
   "source": []
  }
 ],
 "metadata": {
  "kernelspec": {
   "display_name": "Python 3",
   "language": "python",
   "name": "python3"
  },
  "language_info": {
   "codemirror_mode": {
    "name": "ipython",
    "version": 3
   },
   "file_extension": ".py",
   "mimetype": "text/x-python",
   "name": "python",
   "nbconvert_exporter": "python",
   "pygments_lexer": "ipython3",
   "version": "3.7.6"
  }
 },
 "nbformat": 4,
 "nbformat_minor": 4
}
