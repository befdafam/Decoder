{
 "cells": [
  {
   "cell_type": "code",
   "execution_count": null,
   "metadata": {},
   "outputs": [],
   "source": [
    "from utils import *"
   ]
  },
  {
   "cell_type": "code",
   "execution_count": 1,
   "metadata": {},
   "outputs": [
    {
     "name": "stdout",
     "output_type": "stream",
     "text": [
      "[0, 1, 2, 3, 4, 5, 6, 7, 8, 9, 10, 11, 12, 13, 14, 15, 16, 17, 18, 19, 20, 21, 22, 23, 24, 25]\n"
     ]
    }
   ],
   "source": [
    "key=list(range(0, 26))\n",
    "print(key)"
   ]
  },
  {
   "cell_type": "code",
   "execution_count": null,
   "metadata": {},
   "outputs": [],
   "source": [
    "def shift_key(key):\n",
    "    "
   ]
  },
  {
   "cell_type": "code",
   "execution_count": null,
   "metadata": {},
   "outputs": [],
   "source": [
    "#encodes a given plaintext using a given key\n",
    "def encode_arist(text,key):\n",
    "    text=extract_characters(text)\n",
    "    listNum = text_to_num(text)\n",
    "    for i in range (len(listNum)):\n",
    "        if listNum[i] != 26:\n",
    "            listNum[i]=key[listNum[i]]\n",
    "    return num_to_text(listNum)\n",
    "\n",
    "#decodes a given aristocrat ciphertext using a given key\n",
    "def decode_arist(text,key):\n",
    "    listNum = text_to_num(text)\n",
    "    for i in range (len(listNum)):\n",
    "        if listNum[i] != 26:\n",
    "            listNum[i]=key.index(listNum[i])\n",
    "    return num_to_text(listNum)"
   ]
  }
 ],
 "metadata": {
  "kernelspec": {
   "display_name": "Python 3",
   "language": "python",
   "name": "python3"
  },
  "language_info": {
   "codemirror_mode": {
    "name": "ipython",
    "version": 3
   },
   "file_extension": ".py",
   "mimetype": "text/x-python",
   "name": "python",
   "nbconvert_exporter": "python",
   "pygments_lexer": "ipython3",
   "version": "3.7.6"
  }
 },
 "nbformat": 4,
 "nbformat_minor": 4
}
