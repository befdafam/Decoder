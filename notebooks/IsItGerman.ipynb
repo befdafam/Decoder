{
 "cells": [
  {
   "cell_type": "markdown",
   "metadata": {},
   "source": [
    "differentiate between german and english text"
   ]
  },
  {
   "cell_type": "code",
   "execution_count": 1,
   "metadata": {},
   "outputs": [],
   "source": [
    "from utils import *\n"
   ]
  },
  {
   "cell_type": "code",
   "execution_count": 2,
   "metadata": {},
   "outputs": [],
   "source": [
    "crime = open(\"../data/Crime.txt\", \"r\")\n",
    "crimeString= crime.read()\n",
    "crimeString=extract_characters(crimeString)\n",
    "freqCrime=freq_array(crimeString)\n",
    "pairProbsCrime=get_pair_freq(crimeString)"
   ]
  },
  {
   "cell_type": "code",
   "execution_count": 3,
   "metadata": {},
   "outputs": [],
   "source": [
    "probabilitiesCrime=list(freqCrime)\n",
    "for i in range (len(probabilitiesCrime)):\n",
    "    probabilitiesCrime[i]=probabilitiesCrime[i]/sum(freqCrime)"
   ]
  },
  {
   "cell_type": "code",
   "execution_count": 4,
   "metadata": {},
   "outputs": [],
   "source": [
    "goethe = open(\"../data/goethe.txt\", \"r\")\n",
    "goetheString= goethe.read()\n",
    "goetheString=extract_characters(goetheString)\n",
    "freqGoethe=freq_array(goetheString)\n",
    "pairProbsGoethe=get_pair_freq(goetheString)"
   ]
  },
  {
   "cell_type": "code",
   "execution_count": 5,
   "metadata": {},
   "outputs": [],
   "source": [
    "probabilitiesGoethe=list(freqGoethe)\n",
    "for i in range (len(probabilitiesGoethe)):\n",
    "    probabilitiesGoethe[i]=probabilitiesGoethe[i]/sum(freqGoethe)"
   ]
  },
  {
   "cell_type": "code",
   "execution_count": 6,
   "metadata": {},
   "outputs": [
    {
     "name": "stdout",
     "output_type": "stream",
     "text": [
      "[0.06757204402535812, 0.011209839545255028, 0.01723088491480832, 0.03578588877948355, 0.09584394560070376, 0.015703265947146574, 0.01679377052680953, 0.05111591926798397, 0.057174379439015245, 0.0007656345960980925, 0.008906547864025486, 0.032716049946022306, 0.02050604887833163, 0.057634307730354266, 0.06591666719899107, 0.012773960758261142, 0.0007190942332840249, 0.044254409699376634, 0.04883909171462909, 0.07376830017256436, 0.025352634503929924, 0.010139411200531473, 0.019159116025124497, 0.0012146122138338034, 0.019425582416138374, 0.0009928610733667754, 0.18848573172857294]\n",
      "[0.0447645750749299, 0.014985980856618002, 0.029945593418473627, 0.040818120292160705, 0.13831928489184606, 0.012727096938640978, 0.02425004174980004, 0.046997090698144554, 0.07261828377558824, 0.0016260448436799591, 0.008745484429521944, 0.031061851230080952, 0.025911244319829836, 0.0863825336415494, 0.02159563341038735, 0.0051066597523138175, 0.00021973578968648098, 0.05416047744192383, 0.0503722324277289, 0.05110175524948801, 0.032538475736774104, 0.006759072890756155, 0.01604950207870057, 0.0008789431587459239, 0.0022325156232146466, 0.008824589313809077, 0.17100718096560696]\n"
     ]
    }
   ],
   "source": [
    "print(probabilitiesCrime)\n",
    "print(probabilitiesGoethe)"
   ]
  },
  {
   "cell_type": "code",
   "execution_count": 7,
   "metadata": {},
   "outputs": [],
   "source": [
    "import math\n",
    "def calc_lang_log_likelihood(plaintext,probabilities):\n",
    "    freqArray=freq_array(plaintext)\n",
    "    logsum=0\n",
    "    for i in range (27):\n",
    "        #for every letter multiply the frequency of that decoded letter into a product\n",
    "        logsum=logsum+freqArray[i]*math.log(probabilities[i])\n",
    "    return logsum"
   ]
  },
  {
   "cell_type": "code",
   "execution_count": 8,
   "metadata": {},
   "outputs": [
    {
     "name": "stdout",
     "output_type": "stream",
     "text": [
      "-24.006921465565952\n",
      "-24.977495992869475\n"
     ]
    }
   ],
   "source": [
    "plaintext=\"brigitte\"\n",
    "german=calc_lang_log_likelihood(plaintext, probabilitiesGoethe)\n",
    "english=calc_lang_log_likelihood(plaintext, probabilitiesCrime)\n",
    "print(german)\n",
    "print(english)"
   ]
  },
  {
   "cell_type": "code",
   "execution_count": null,
   "metadata": {},
   "outputs": [],
   "source": []
  }
 ],
 "metadata": {
  "kernelspec": {
   "display_name": "Python 3",
   "language": "python",
   "name": "python3"
  },
  "language_info": {
   "codemirror_mode": {
    "name": "ipython",
    "version": 3
   },
   "file_extension": ".py",
   "mimetype": "text/x-python",
   "name": "python",
   "nbconvert_exporter": "python",
   "pygments_lexer": "ipython3",
   "version": "3.7.6"
  }
 },
 "nbformat": 4,
 "nbformat_minor": 4
}
