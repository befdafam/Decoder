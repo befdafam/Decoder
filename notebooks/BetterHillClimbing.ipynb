{
 "cells": [
  {
   "cell_type": "markdown",
   "metadata": {},
   "source": [
    "here imma find the most likely key using a method of random switching to find the best model BUT FAESTEr"
   ]
  },
  {
   "cell_type": "code",
   "execution_count": 21,
   "metadata": {},
   "outputs": [],
   "source": [
    "from utils import *"
   ]
  },
  {
   "cell_type": "code",
   "execution_count": 47,
   "metadata": {},
   "outputs": [
    {
     "name": "stdout",
     "output_type": "stream",
     "text": [
      "the project gutenberg ebook of crime and punishment by fyodor dostoevsky this ebook is for the use of anyone anywhere at no cost and with almost no restrictions whatsoever you may copy it give it away\n"
     ]
    }
   ],
   "source": [
    "crime = open(\"../data/Crime.txt\", \"r\")\n",
    "sample=crime.read(1000)\n",
    "sample=extract_characters(sample)\n",
    "crimeString= crime.read()\n",
    "crimeString=extract_characters(crimeString)\n",
    "freqCrime=freq_array(crimeString)\n",
    "pairProbsCrime=get_pair_freq(crimeString)\n",
    "print(sample[:200])"
   ]
  },
  {
   "cell_type": "code",
   "execution_count": 48,
   "metadata": {},
   "outputs": [
    {
     "name": "stdout",
     "output_type": "stream",
     "text": [
      "1.0\n"
     ]
    }
   ],
   "source": [
    "probabilitiesCrime=list(freqCrime)\n",
    "for i in range (len(probabilitiesCrime)):\n",
    "    probabilitiesCrime[i]=probabilitiesCrime[i]/sum(freqCrime)\n",
    "print(sum(probabilitiesCrime))"
   ]
  },
  {
   "cell_type": "code",
   "execution_count": 49,
   "metadata": {},
   "outputs": [],
   "source": [
    "def climb_that_hill_fast(ciphertext,probabilities,pairProbs):\n",
    "    startKey=substitute_singles_key(ciphertext,probabilities)\n",
    "    i=0\n",
    "    plaintext=decode_arist(ciphertext,startKey)\n",
    "    plainPairCounts=get_pairs_array(plaintext)\n",
    "    while i<100000:\n",
    "        #get two random indices\n",
    "        l1=random.randint(0,25)\n",
    "        l2=random.randint(0,25)\n",
    "        while l2==l1:\n",
    "            l2=random.randint(0,25)\n",
    "        #calculate the difference in likelihood for a model after switching two letters from the original model \n",
    "        diff=calc_liklihood_difference(l1,l2,plainPairCounts,probabilities,pairProbs)\n",
    "        #if difference is positive switch the two letters\n",
    "        if diff>0:\n",
    "            switch_two_items(l1,l2,startKey)\n",
    "            switch_two_indices(l1,l2,plainPairCounts)\n",
    "        else:\n",
    "            i+=1\n",
    "    return startKey"
   ]
  },
  {
   "cell_type": "code",
   "execution_count": 50,
   "metadata": {},
   "outputs": [
    {
     "name": "stdout",
     "output_type": "stream",
     "text": [
      "[6, 5, 23, 20, 19, 18, 16, 25, 0, 14, 15, 13, 9, 10, 8, 17, 24, 22, 12, 3, 7, 4, 11, 21, 2, 1]\n",
      "[5, 6, 23, 20, 19, 18, 16, 25, 0, 14, 15, 13, 9, 10, 8, 17, 24, 22, 12, 3, 7, 4, 11, 21, 2, 1]\n"
     ]
    }
   ],
   "source": [
    "key1=get_random_key()\n",
    "print(key1)\n",
    "switch_two_items(0,1,key1)\n",
    "print(key1)"
   ]
  },
  {
   "cell_type": "code",
   "execution_count": 51,
   "metadata": {},
   "outputs": [
    {
     "name": "stdout",
     "output_type": "stream",
     "text": [
      "[17, 8, 2, 16, 14, 6, 1, 0, 21, 25, 23, 3, 9, 4, 12, 20, 5, 19, 24, 11, 18, 22, 13, 7, 10, 15]\n",
      "lao utmzocl bsloeiotb oimmx mg ctvjo req usevyajoel ik gkmqmt qmylmowyxk lavy oimmx vy gmt lao syo mg rekmeo reknaoto rl em cmyl req nvla rdjmyl em toyltvclvmey narlymowot kms jrk cmuk vl bvwo vl rnrk\n"
     ]
    }
   ],
   "source": [
    "key=get_random_key()\n",
    "print(key)\n",
    "realtext=sample\n",
    "ciphertext=encode_arist(realtext,key)\n",
    "print(ciphertext[:200])"
   ]
  },
  {
   "cell_type": "code",
   "execution_count": 55,
   "metadata": {},
   "outputs": [
    {
     "name": "stdout",
     "output_type": "stream",
     "text": [
      "[17, 8, 2, 16, 14, 6, 1, 0, 21, 25, 23, 3, 9, 4, 12, 20, 15, 19, 24, 11, 18, 22, 13, 5, 10, 7]\n",
      "the project gutenberg ebook of crime and punishment by fyodor dostoevsky this ebook is for the use of anyone anywhere at no cost and with almost no restrictions whatsoever you may copy it give it away\n"
     ]
    }
   ],
   "source": [
    "#decode using pair frequencies\n",
    "findkey=climb_that_hill_fast(ciphertext,probabilitiesCrime, pairProbsCrime)\n",
    "print(findkey)\n",
    "#print(ciphertext[:200])\n",
    "plaintext=decode_arist(ciphertext,findkey)\n",
    "print(plaintext[:200])"
   ]
  },
  {
   "cell_type": "code",
   "execution_count": null,
   "metadata": {},
   "outputs": [],
   "source": []
  },
  {
   "cell_type": "code",
   "execution_count": null,
   "metadata": {},
   "outputs": [],
   "source": []
  }
 ],
 "metadata": {
  "kernelspec": {
   "display_name": "Python 3",
   "language": "python",
   "name": "python3"
  },
  "language_info": {
   "codemirror_mode": {
    "name": "ipython",
    "version": 3
   },
   "file_extension": ".py",
   "mimetype": "text/x-python",
   "name": "python",
   "nbconvert_exporter": "python",
   "pygments_lexer": "ipython3",
   "version": "3.7.6"
  }
 },
 "nbformat": 4,
 "nbformat_minor": 4
}
