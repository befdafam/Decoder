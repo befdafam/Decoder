{
 "cells": [
  {
   "cell_type": "markdown",
   "metadata": {},
   "source": [
    "here imma find the most likely key using a method of random switching to find the best model BUT FAESTEr"
   ]
  },
  {
   "cell_type": "code",
   "execution_count": 2,
   "metadata": {},
   "outputs": [],
   "source": [
    "from utils import *\n",
    "from test import *\n"
   ]
  },
  {
   "cell_type": "code",
   "execution_count": null,
   "metadata": {},
   "outputs": [],
   "source": [
    "crime = open(\"../data/Crime.txt\", \"r\")\n",
    "sample=crime.read(4000)\n",
    "sample=extract_characters(sample)\n",
    "crimeString= crime.read()\n",
    "crimeString=extract_characters(crimeString)\n",
    "freqCrime=freq_array(crimeString)\n",
    "pairProbsCrime=get_pair_freq(crimeString)\n",
    "print(sample[:200])"
   ]
  },
  {
   "cell_type": "code",
   "execution_count": 6,
   "metadata": {},
   "outputs": [
    {
     "name": "stdout",
     "output_type": "stream",
     "text": [
      "1.0\n"
     ]
    }
   ],
   "source": [
    "probabilitiesCrime=list(freqCrime)\n",
    "for i in range (len(probabilitiesCrime)):\n",
    "    probabilitiesCrime[i]=probabilitiesCrime[i]/sum(freqCrime)\n",
    "print(sum(probabilitiesCrime))"
   ]
  },
  {
   "cell_type": "code",
   "execution_count": 7,
   "metadata": {},
   "outputs": [],
   "source": [
    "def climb_that_hill_fast(ciphertext,probabilities,pairProbs):\n",
    "    startKey=substitute_singles_key(ciphertext,probabilities)\n",
    "    i=0\n",
    "    plaintext=decode_arist(ciphertext,startKey)\n",
    "    plainPairCounts=get_pair_freq(plaintext)\n",
    "    while i<10000:\n",
    "        #get two random indices\n",
    "        l1=random.randint(0,25)\n",
    "        l2=random.randint(0,25)\n",
    "        while l2==l1:\n",
    "            l2=random.randint(0,25)\n",
    "        #calculate the difference in likelihood for a model after switching two letters from the original model \n",
    "        diff=calc_difference_liklihood(l1,l2,plainPairCounts,probabilities,pairProbs)\n",
    "        #if difference is positive switch the \n",
    "        if diff>0:\n",
    "            templetter=int(startKey[l1])\n",
    "            startKey[l1]=int(startKey[l2])\n",
    "            startKey[l2]=int(templetter)\n",
    "            #switch rows\n",
    "            rowl1=list(plainPairCounts[l1])\n",
    "            rowl2=list(plainPairCounts[l2])\n",
    "            plainPairCounts[l1]=rowl2\n",
    "            plainPairCounts[l2]=rowl1\n",
    "            #switch collumns\n",
    "            coll1=[]\n",
    "            coll2=[]\n",
    "            for i in range (len(plainPairCounts)):\n",
    "                newl1=int(plainPairCounts[i][l2])\n",
    "                newl2=int(plainPairCounts[i][l1])\n",
    "                plainPairCounts[i][l1]=newl1\n",
    "                plainPairCounts[i][l2]=newl2\n",
    "        else:\n",
    "            i+=1\n",
    "    return startKey"
   ]
  },
  {
   "cell_type": "code",
   "execution_count": 3,
   "metadata": {},
   "outputs": [],
   "source": [
    "test_liklihood_difference()"
   ]
  },
  {
   "cell_type": "code",
   "execution_count": 3,
   "metadata": {},
   "outputs": [
    {
     "name": "stdout",
     "output_type": "stream",
     "text": [
      "35.83297644616998\n",
      "35.832976446169965\n"
     ]
    }
   ],
   "source": []
  },
  {
   "cell_type": "code",
   "execution_count": null,
   "metadata": {},
   "outputs": [],
   "source": []
  }
 ],
 "metadata": {
  "kernelspec": {
   "display_name": "Python 3",
   "language": "python",
   "name": "python3"
  },
  "language_info": {
   "codemirror_mode": {
    "name": "ipython",
    "version": 3
   },
   "file_extension": ".py",
   "mimetype": "text/x-python",
   "name": "python",
   "nbconvert_exporter": "python",
   "pygments_lexer": "ipython3",
   "version": "3.7.6"
  }
 },
 "nbformat": 4,
 "nbformat_minor": 4
}
