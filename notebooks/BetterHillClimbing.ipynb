{
 "cells": [
  {
   "cell_type": "markdown",
   "metadata": {},
   "source": [
    "here imma find the most likely key using a method of random switching to find the best model BUT FAESTEr"
   ]
  },
  {
   "cell_type": "code",
   "execution_count": 21,
   "metadata": {},
   "outputs": [],
   "source": [
    "from utils import *"
   ]
  },
  {
   "cell_type": "code",
   "execution_count": 34,
   "metadata": {},
   "outputs": [
    {
     "name": "stdout",
     "output_type": "stream",
     "text": [
      "the project gutenberg ebook of crime and punishment by fyodor dostoevsky this ebook is for the use of anyone anywhere at no cost and with almost no restrictions whatsoever you may copy it give it away\n"
     ]
    }
   ],
   "source": [
    "crime = open(\"../data/Crime.txt\", \"r\")\n",
    "sample=crime.read(4000)\n",
    "sample=extract_characters(sample)\n",
    "crimeString= crime.read()\n",
    "crimeString=extract_characters(crimeString)\n",
    "freqCrime=freq_array(crimeString)\n",
    "pairProbsCrime=get_pair_freq(crimeString)\n",
    "print(sample[:200])"
   ]
  },
  {
   "cell_type": "code",
   "execution_count": 36,
   "metadata": {},
   "outputs": [
    {
     "name": "stdout",
     "output_type": "stream",
     "text": [
      "1.0\n"
     ]
    }
   ],
   "source": [
    "probabilitiesCrime=list(freqCrime)\n",
    "for i in range (len(probabilitiesCrime)):\n",
    "    probabilitiesCrime[i]=probabilitiesCrime[i]/sum(freqCrime)\n",
    "print(sum(probabilitiesCrime))"
   ]
  },
  {
   "cell_type": "code",
   "execution_count": 37,
   "metadata": {},
   "outputs": [],
   "source": [
    "def climb_that_hill_fast(ciphertext,probabilities,pairProbs):\n",
    "    startKey=substitute_singles_key(ciphertext,probabilities)\n",
    "    i=0\n",
    "    plaintext=decode_arist(ciphertext,startKey)\n",
    "    plainPairCounts=get_pairs_array(plaintext)\n",
    "    while i<100000:\n",
    "        #get two random indices\n",
    "        l1=random.randint(0,25)\n",
    "        l2=random.randint(0,25)\n",
    "        while l2==l1:\n",
    "            l2=random.randint(0,25)\n",
    "        #calculate the difference in likelihood for a model after switching two letters from the original model \n",
    "        diff=calc_liklihood_difference(l1,l2,plainPairCounts,probabilities,pairProbs)\n",
    "        #if difference is positive switch the two letters\n",
    "        if diff>0:\n",
    "            switch_two_items(l1,l2,startKey)\n",
    "            switch_two_indices(l1,l2,plainPairCounts)\n",
    "        else:\n",
    "            i+=1\n",
    "    return startKey"
   ]
  },
  {
   "cell_type": "code",
   "execution_count": 38,
   "metadata": {},
   "outputs": [
    {
     "name": "stdout",
     "output_type": "stream",
     "text": [
      "[24, 16, 4, 20, 10, 8, 23, 3, 25, 17, 15, 11, 2, 21, 7, 22, 19, 0, 14, 18, 6, 12, 1, 9, 13, 5]\n",
      "[16, 24, 4, 20, 10, 8, 23, 3, 25, 17, 15, 11, 2, 21, 7, 22, 19, 0, 14, 18, 6, 12, 1, 9, 13, 5]\n"
     ]
    }
   ],
   "source": [
    "key1=get_random_key()\n",
    "print(key1)\n",
    "switch_two_items(0,1,key1)\n",
    "print(key1)"
   ]
  },
  {
   "cell_type": "code",
   "execution_count": 39,
   "metadata": {},
   "outputs": [
    {
     "name": "stdout",
     "output_type": "stream",
     "text": [
      "[2, 4, 9, 14, 13, 16, 10, 12, 6, 21, 17, 23, 18, 24, 1, 20, 15, 0, 5, 19, 25, 7, 22, 11, 8, 3]\n",
      "tmn uabvnjt kztnyenak nebbr bq jagsn cyo uzygfmsnyt ei qiboba obftbnhfri tmgf nebbr gf qba tmn zfn bq cyibyn cyiwmnan ct yb jbft cyo wgtm cxsbft yb anftagjtgbyf wmctfbnhna ibz sci jbui gt kghn gt cwci\n"
     ]
    }
   ],
   "source": [
    "key=get_random_key()\n",
    "print(key)\n",
    "realtext=sample\n",
    "ciphertext=encode_arist(realtext,key)\n",
    "print(ciphertext[:200])"
   ]
  },
  {
   "cell_type": "code",
   "execution_count": 40,
   "metadata": {},
   "outputs": [
    {
     "name": "stdout",
     "output_type": "stream",
     "text": [
      "[2, 4, 9, 14, 13, 16, 10, 12, 6, 21, 17, 23, 18, 24, 1, 20, 15, 0, 5, 19, 25, 7, 22, 11, 8, 3]\n",
      "the project gutenberg ebook of crime and punishment by fyodor dostoevsky this ebook is for the use of anyone anywhere at no cost and with almost no restrictions whatsoever you may copy it give it away\n"
     ]
    }
   ],
   "source": [
    "#decode using pair frequencies\n",
    "findkey=climb_that_hill_fast(ciphertext,probabilitiesCrime, pairProbsCrime)\n",
    "print(findkey)\n",
    "#print(ciphertext[:200])\n",
    "plaintext=decode_arist(ciphertext,findkey)\n",
    "print(plaintext[:200])"
   ]
  },
  {
   "cell_type": "code",
   "execution_count": null,
   "metadata": {},
   "outputs": [],
   "source": []
  }
 ],
 "metadata": {
  "kernelspec": {
   "display_name": "Python 3",
   "language": "python",
   "name": "python3"
  },
  "language_info": {
   "codemirror_mode": {
    "name": "ipython",
    "version": 3
   },
   "file_extension": ".py",
   "mimetype": "text/x-python",
   "name": "python",
   "nbconvert_exporter": "python",
   "pygments_lexer": "ipython3",
   "version": "3.7.6"
  }
 },
 "nbformat": 4,
 "nbformat_minor": 4
}
