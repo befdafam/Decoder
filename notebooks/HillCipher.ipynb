{
 "cells": [
  {
   "cell_type": "markdown",
   "metadata": {},
   "source": [
    "Here i will attempt to write an encoder and a decoder for the hill cipher"
   ]
  },
  {
   "cell_type": "code",
   "execution_count": 116,
   "metadata": {},
   "outputs": [],
   "source": [
    "from utils import *"
   ]
  },
  {
   "cell_type": "code",
   "execution_count": 117,
   "metadata": {},
   "outputs": [
    {
     "name": "stdout",
     "output_type": "stream",
     "text": [
      "[[119], [66], [108]]\n"
     ]
    }
   ],
   "source": [
    "# input two matrices of size n x m \n",
    "keyMat = [[12,7,3], \n",
    "          [4 ,5,6], \n",
    "          [7 ,8,9]] \n",
    "matrix2 = [[5],[8],[1]]\n",
    "res = [[0 for y in range(len(matrix2[0]))] for x in range(len(keyMat))]  \n",
    "# explicit for loops \n",
    "for i in range(len(keyMat)): \n",
    "    for j in range(len(matrix2[0])): \n",
    "        for k in range(len(matrix2)): \n",
    "  \n",
    "            # resulted matrix \n",
    "            res[i][j] += keyMat[i][k] * matrix2[k][j] \n",
    "print (res) "
   ]
  },
  {
   "cell_type": "code",
   "execution_count": 118,
   "metadata": {},
   "outputs": [],
   "source": [
    "def multiply_matrices(keyMatrix,matrix2):\n",
    "    if len(keyMatrix[0])!=len(matrix2):\n",
    "        return('uh oh wrong size')\n",
    "    res = [[0 for y in range(len(matrix2[0]))] for x in range(len(keyMatrix))]  \n",
    "    for i in range(len(keyMatrix)): \n",
    "        for j in range(len(matrix2[0])): \n",
    "            for k in range(len(matrix2)): \n",
    "                # resulted matrix \n",
    "                res[i][j] += keyMatrix[i][k] * matrix2[k][j] \n",
    "    return(res) \n"
   ]
  },
  {
   "cell_type": "code",
   "execution_count": 119,
   "metadata": {},
   "outputs": [
    {
     "data": {
      "text/plain": [
       "[[26], [14]]"
      ]
     },
     "execution_count": 119,
     "metadata": {},
     "output_type": "execute_result"
    }
   ],
   "source": [
    "keyMat = [[12,7], \n",
    "          [4 ,5]]\n",
    "matrix2 = [[1],[2]]\n",
    "multiply_matrices(keyMat,matrix2)"
   ]
  },
  {
   "cell_type": "code",
   "execution_count": 120,
   "metadata": {},
   "outputs": [],
   "source": [
    "def convert_string_to_matrix(string, r):\n",
    "    numList=text_to_num(string)\n",
    "    c=int(len(numList)/r)\n",
    "    res = [[0 for y in range(c)] for x in range(r)]  \n",
    "    letter=0\n",
    "    for i in range (len(res)):\n",
    "        for j in range(len(res[0])):\n",
    "            res[i][j]=numList[letter]\n",
    "            letter+=1\n",
    "    return res"
   ]
  },
  {
   "cell_type": "code",
   "execution_count": 121,
   "metadata": {},
   "outputs": [
    {
     "data": {
      "text/plain": [
       "[[19, 7, 17], [4, 4, 1], [24, 19, 4]]"
      ]
     },
     "execution_count": 121,
     "metadata": {},
     "output_type": "execute_result"
    }
   ],
   "source": [
    "convert_string_to_matrix('hi',2)\n",
    "convert_string_to_matrix('threebyte',3)"
   ]
  },
  {
   "cell_type": "code",
   "execution_count": 129,
   "metadata": {},
   "outputs": [],
   "source": [
    "def convert_matrix_to_string(matrix):\n",
    "    s=''\n",
    "    for r in range (len(matrix)):\n",
    "        for c in range (len(matrix[0])):\n",
    "            mod=matrix[r][c]%26\n",
    "            l=chr(mod+97)\n",
    "            s+=l\n",
    "    return s"
   ]
  },
  {
   "cell_type": "code",
   "execution_count": 130,
   "metadata": {},
   "outputs": [
    {
     "name": "stdout",
     "output_type": "stream",
     "text": [
      "bcdcdb\n"
     ]
    }
   ],
   "source": [
    "mat=[[1,2,3],[2,3,27]]\n",
    "s=convert_matrix_to_string(mat)\n",
    "print(s)"
   ]
  },
  {
   "cell_type": "code",
   "execution_count": 134,
   "metadata": {},
   "outputs": [],
   "source": [
    "def encode_hill(key,plaintext):\n",
    "    r=int(math.sqrt(len(key)))\n",
    "    encMatrix=convert_string_to_matrix(key,r)\n",
    "    #add zs\n",
    "    if len(plaintext)%r!=0:\n",
    "        plaintext=plaintext+'z'*(r-(len(plaintext)%r))\n",
    "    #every r letters\n",
    "    i=0\n",
    "    string=''\n",
    "    while i<(len(plaintext)):\n",
    "        plainMatrix=convert_string_to_matrix(plaintext[i: i+r: 1],r)\n",
    "        i+=r\n",
    "        cipherMatrix=multiply_matrices(encMatrix,plainMatrix)\n",
    "        string+=convert_matrix_to_string(cipherMatrix)\n",
    "    return string"
   ]
  },
  {
   "cell_type": "code",
   "execution_count": 135,
   "metadata": {},
   "outputs": [
    {
     "data": {
      "text/plain": [
       "'fhcujvzmn'"
      ]
     },
     "execution_count": 135,
     "metadata": {},
     "output_type": "execute_result"
    }
   ],
   "source": [
    "encode_hill('fourtyone','hipster')"
   ]
  },
  {
   "cell_type": "code",
   "execution_count": 136,
   "metadata": {},
   "outputs": [
    {
     "data": {
      "text/plain": [
       "'rqpivgtl'"
      ]
     },
     "execution_count": 136,
     "metadata": {},
     "output_type": "execute_result"
    }
   ],
   "source": [
    "encode_hill('four','hipster')"
   ]
  },
  {
   "cell_type": "code",
   "execution_count": 139,
   "metadata": {},
   "outputs": [
    {
     "data": {
      "text/plain": [
       "'zgoxgecw'"
      ]
     },
     "execution_count": 139,
     "metadata": {},
     "output_type": "execute_result"
    }
   ],
   "source": [
    "encode_hill('fourbyfourmatrix','hipster')"
   ]
  },
  {
   "cell_type": "code",
   "execution_count": 183,
   "metadata": {},
   "outputs": [
    {
     "name": "stdout",
     "output_type": "stream",
     "text": [
      "2\n",
      "[[ 1.  -1.5]\n",
      " [ 0.   0.5]]\n",
      "[[ 0.5  -0.75]\n",
      " [ 0.    0.25]]\n",
      "[[1. 0.]\n",
      " [0. 1.]]\n"
     ]
    }
   ],
   "source": [
    "import numpy as np\n",
    "keyMat = [[1,3], \n",
    "          [0,2]]\n",
    "iden = [[1,0], \n",
    "        [0,1]]\n",
    "mat=convert_string_to_matrix('threebyte',3)\n",
    "det = int(np.linalg.det(keyMat))\n",
    "inv = np.linalg.inv(keyMat)\n",
    "aug=inv/det\n",
    "print(det)\n",
    "print(inv)\n",
    "print (aug)\n",
    "shouldbekey=np.dot(keyMat,inv)\n",
    "print(shouldbekey)"
   ]
  },
  {
   "cell_type": "code",
   "execution_count": 189,
   "metadata": {},
   "outputs": [],
   "source": [
    "def find_decryption_matrix(encMatrix):\n",
    "    r=len(encMatrix)\n",
    "    print(encMatrix)\n",
    "    det = int(np.linalg.det(encMatrix))\n",
    "    if det==3:\n",
    "        det=9\n",
    "    if det==9:\n",
    "        det=3\n",
    "    if det==5:\n",
    "        det=21\n",
    "    if det==21:\n",
    "        det=5\n",
    "    if det==17:\n",
    "        det=23\n",
    "    if det==23:\n",
    "        det=17\n",
    "    if det==11:\n",
    "        det=19\n",
    "    if det==19:\n",
    "        det=11\n",
    "    if det==15:\n",
    "        det=7\n",
    "    if det==7:\n",
    "        det=15\n",
    "    inv = np.linalg.inv(encMatrix)\n",
    "    aug=inv/det\n",
    "    modinv=det*aug\n",
    "    return(modinv)\n",
    "    "
   ]
  },
  {
   "cell_type": "code",
   "execution_count": 194,
   "metadata": {},
   "outputs": [],
   "source": [
    "def decode_hill(encStr,ciphertext):\n",
    "    r=int(math.sqrt(len(encStr)))\n",
    "    encMat=convert_string_to_matrix(encStr,r)\n",
    "    decMat=find_decryption_matrix(encMat)\n",
    "    print(decMat)\n",
    "    print('hi')\n",
    "    decStr=convert_matrix_to_string(decMat)\n",
    "    print(decStr)\n",
    "    plain=encode_hill(decStr,ciphertext)\n",
    "    return plain"
   ]
  },
  {
   "cell_type": "code",
   "execution_count": 195,
   "metadata": {},
   "outputs": [
    {
     "name": "stdout",
     "output_type": "stream",
     "text": [
      "mktimycit\n"
     ]
    }
   ],
   "source": [
    "keyMat=\"fortyfour\"\n",
    "plain=\"hipster\"\n",
    "cipher=encode_hill(keyMat,plain)\n",
    "print(cipher)"
   ]
  },
  {
   "cell_type": "code",
   "execution_count": 196,
   "metadata": {},
   "outputs": [
    {
     "name": "stdout",
     "output_type": "stream",
     "text": [
      "[[5, 14, 17], [19, 24, 5], [14, 20, 17]]\n",
      "[[-0.24561404 -0.08133971  0.26953748]\n",
      " [ 0.20175439  0.12200957 -0.23763955]\n",
      " [-0.03508772 -0.07655502  0.11642743]]\n",
      "hi\n"
     ]
    },
    {
     "ename": "TypeError",
     "evalue": "integer argument expected, got float",
     "output_type": "error",
     "traceback": [
      "\u001b[0;31m---------------------------------------------------------------------------\u001b[0m",
      "\u001b[0;31mTypeError\u001b[0m                                 Traceback (most recent call last)",
      "\u001b[0;32m<ipython-input-196-2697ead51ce6>\u001b[0m in \u001b[0;36m<module>\u001b[0;34m\u001b[0m\n\u001b[0;32m----> 1\u001b[0;31m \u001b[0mplain\u001b[0m\u001b[0;34m=\u001b[0m\u001b[0mdecode_hill\u001b[0m\u001b[0;34m(\u001b[0m\u001b[0mkeyMat\u001b[0m\u001b[0;34m,\u001b[0m\u001b[0mcipher\u001b[0m\u001b[0;34m)\u001b[0m\u001b[0;34m\u001b[0m\u001b[0;34m\u001b[0m\u001b[0m\n\u001b[0m\u001b[1;32m      2\u001b[0m \u001b[0mprint\u001b[0m\u001b[0;34m(\u001b[0m\u001b[0mplain\u001b[0m\u001b[0;34m)\u001b[0m\u001b[0;34m\u001b[0m\u001b[0;34m\u001b[0m\u001b[0m\n",
      "\u001b[0;32m<ipython-input-194-782451db1cf9>\u001b[0m in \u001b[0;36mdecode_hill\u001b[0;34m(encStr, ciphertext)\u001b[0m\n\u001b[1;32m      5\u001b[0m     \u001b[0mprint\u001b[0m\u001b[0;34m(\u001b[0m\u001b[0mdecMat\u001b[0m\u001b[0;34m)\u001b[0m\u001b[0;34m\u001b[0m\u001b[0;34m\u001b[0m\u001b[0m\n\u001b[1;32m      6\u001b[0m     \u001b[0mprint\u001b[0m\u001b[0;34m(\u001b[0m\u001b[0;34m'hi'\u001b[0m\u001b[0;34m)\u001b[0m\u001b[0;34m\u001b[0m\u001b[0;34m\u001b[0m\u001b[0m\n\u001b[0;32m----> 7\u001b[0;31m     \u001b[0mdecStr\u001b[0m\u001b[0;34m=\u001b[0m\u001b[0mconvert_matrix_to_string\u001b[0m\u001b[0;34m(\u001b[0m\u001b[0mdecMat\u001b[0m\u001b[0;34m)\u001b[0m\u001b[0;34m\u001b[0m\u001b[0;34m\u001b[0m\u001b[0m\n\u001b[0m\u001b[1;32m      8\u001b[0m     \u001b[0mprint\u001b[0m\u001b[0;34m(\u001b[0m\u001b[0mdecStr\u001b[0m\u001b[0;34m)\u001b[0m\u001b[0;34m\u001b[0m\u001b[0;34m\u001b[0m\u001b[0m\n\u001b[1;32m      9\u001b[0m     \u001b[0mplain\u001b[0m\u001b[0;34m=\u001b[0m\u001b[0mencode_hill\u001b[0m\u001b[0;34m(\u001b[0m\u001b[0mdecStr\u001b[0m\u001b[0;34m,\u001b[0m\u001b[0mciphertext\u001b[0m\u001b[0;34m)\u001b[0m\u001b[0;34m\u001b[0m\u001b[0;34m\u001b[0m\u001b[0m\n",
      "\u001b[0;32m<ipython-input-129-832dba43a623>\u001b[0m in \u001b[0;36mconvert_matrix_to_string\u001b[0;34m(matrix)\u001b[0m\n\u001b[1;32m      4\u001b[0m         \u001b[0;32mfor\u001b[0m \u001b[0mc\u001b[0m \u001b[0;32min\u001b[0m \u001b[0mrange\u001b[0m \u001b[0;34m(\u001b[0m\u001b[0mlen\u001b[0m\u001b[0;34m(\u001b[0m\u001b[0mmatrix\u001b[0m\u001b[0;34m[\u001b[0m\u001b[0;36m0\u001b[0m\u001b[0;34m]\u001b[0m\u001b[0;34m)\u001b[0m\u001b[0;34m)\u001b[0m\u001b[0;34m:\u001b[0m\u001b[0;34m\u001b[0m\u001b[0;34m\u001b[0m\u001b[0m\n\u001b[1;32m      5\u001b[0m             \u001b[0mmod\u001b[0m\u001b[0;34m=\u001b[0m\u001b[0mmatrix\u001b[0m\u001b[0;34m[\u001b[0m\u001b[0mr\u001b[0m\u001b[0;34m]\u001b[0m\u001b[0;34m[\u001b[0m\u001b[0mc\u001b[0m\u001b[0;34m]\u001b[0m\u001b[0;34m%\u001b[0m\u001b[0;36m26\u001b[0m\u001b[0;34m\u001b[0m\u001b[0;34m\u001b[0m\u001b[0m\n\u001b[0;32m----> 6\u001b[0;31m             \u001b[0ml\u001b[0m\u001b[0;34m=\u001b[0m\u001b[0mchr\u001b[0m\u001b[0;34m(\u001b[0m\u001b[0mmod\u001b[0m\u001b[0;34m+\u001b[0m\u001b[0;36m97\u001b[0m\u001b[0;34m)\u001b[0m\u001b[0;34m\u001b[0m\u001b[0;34m\u001b[0m\u001b[0m\n\u001b[0m\u001b[1;32m      7\u001b[0m             \u001b[0ms\u001b[0m\u001b[0;34m+=\u001b[0m\u001b[0ml\u001b[0m\u001b[0;34m\u001b[0m\u001b[0;34m\u001b[0m\u001b[0m\n\u001b[1;32m      8\u001b[0m     \u001b[0;32mreturn\u001b[0m \u001b[0ms\u001b[0m\u001b[0;34m\u001b[0m\u001b[0;34m\u001b[0m\u001b[0m\n",
      "\u001b[0;31mTypeError\u001b[0m: integer argument expected, got float"
     ]
    }
   ],
   "source": [
    "plain=decode_hill(keyMat,cipher)\n",
    "print(plain)"
   ]
  },
  {
   "cell_type": "code",
   "execution_count": null,
   "metadata": {},
   "outputs": [],
   "source": []
  }
 ],
 "metadata": {
  "kernelspec": {
   "display_name": "Python 3",
   "language": "python",
   "name": "python3"
  },
  "language_info": {
   "codemirror_mode": {
    "name": "ipython",
    "version": 3
   },
   "file_extension": ".py",
   "mimetype": "text/x-python",
   "name": "python",
   "nbconvert_exporter": "python",
   "pygments_lexer": "ipython3",
   "version": "3.7.6"
  }
 },
 "nbformat": 4,
 "nbformat_minor": 4
}
