{
 "cells": [
  {
   "cell_type": "markdown",
   "metadata": {},
   "source": [
    "here imma find the most likely key using a method of random switching to find the best model"
   ]
  },
  {
   "cell_type": "code",
   "execution_count": 2,
   "metadata": {},
   "outputs": [
    {
     "name": "stdout",
     "output_type": "stream",
     "text": [
      "the project gutenberg ebook of crime and punishment by fyodor dostoevsky this ebook is for the use of anyone anywhere at no cost and with almost no restrictions whatsoever you may copy it give it away\n"
     ]
    }
   ],
   "source": [
    "from utils import *\n",
    "crime = open(\"../data/Crime.txt\", \"r\")\n",
    "sample=crime.read(4000)\n",
    "sample=extract_characters(sample)\n",
    "crimeString= crime.read()\n",
    "crimeString=extract_characters(crimeString)\n",
    "freqCrime=freq_array(crimeString)\n",
    "pairProbsCrime=get_pair_freq(crimeString)\n",
    "print(sample[:200])"
   ]
  },
  {
   "cell_type": "code",
   "execution_count": 3,
   "metadata": {},
   "outputs": [
    {
     "name": "stdout",
     "output_type": "stream",
     "text": [
      "1.0\n"
     ]
    }
   ],
   "source": [
    "probabilitiesCrime=list(freqCrime)\n",
    "for i in range (len(probabilitiesCrime)):\n",
    "    probabilitiesCrime[i]=probabilitiesCrime[i]/sum(freqCrime)\n",
    "print(sum(probabilitiesCrime))"
   ]
  },
  {
   "cell_type": "code",
   "execution_count": 4,
   "metadata": {},
   "outputs": [],
   "source": [
    "def climb_that_hill(ciphertext,probabilities, pairProbs):\n",
    "    startKey=substitute_singles_key(ciphertext,probabilities)\n",
    "    i=0\n",
    "    while i<10000:\n",
    "        plaintext1=decode_arist(ciphertext,startKey)\n",
    "        liklihood1=log_liklihood_pairs(plaintext1,probabilities,pairProbs)\n",
    "        l1=random.randint(0,25)\n",
    "        l2=random.randint(0,25)\n",
    "        while l2==l1:\n",
    "            l2=random.randint(0,25)\n",
    "        key2=list(startKey)\n",
    "        templetter=int(key2[l1])\n",
    "        key2[l1]=int(key2[l2])\n",
    "        key2[l2]=int(templetter)\n",
    "        plaintext2=decode_arist(ciphertext,key2)\n",
    "        liklihood2=log_liklihood_pairs(plaintext2,probabilities,pairProbs)\n",
    "        if liklihood2>liklihood1:\n",
    "            startKey=list(key2)\n",
    "        else:\n",
    "            i+=1\n",
    "    return startKey"
   ]
  },
  {
   "cell_type": "code",
   "execution_count": 5,
   "metadata": {},
   "outputs": [
    {
     "name": "stdout",
     "output_type": "stream",
     "text": [
      "[5, 19, 9, 10, 3, 22, 18, 1, 20, 17, 4, 23, 25, 7, 0, 16, 14, 6, 8, 11, 2, 12, 13, 21, 24, 15]\n",
      "lbd qgardjl scldhtdgs dtaae aw jguzd fhk qchuibzdhl ty wyakag kailadmiey lbui dtaae ui wag lbd cid aw fhyahd fhynbdgd fl ha jail fhk nulb fxzail ha gdilgujluahi nbfliadmdg yac zfy jaqy ul sumd ul fnfy\n"
     ]
    }
   ],
   "source": [
    "key=get_random_key()\n",
    "print(key)\n",
    "realtext= sample\n",
    "ciphertext=encode_arist(realtext,key)\n",
    "print(ciphertext[:200])"
   ]
  },
  {
   "cell_type": "code",
   "execution_count": 6,
   "metadata": {},
   "outputs": [
    {
     "name": "stdout",
     "output_type": "stream",
     "text": [
      "are pitxema flaeobeif ebttk ty mihce sod plohnrceoa bw ywtdti dtnatevnkw arhn ebttk hn yti are lne ty sowtoe sowgreie sa ot mtna sod ghar suctna ot ienaihmahton grsantevei wtl csw mtpw ha fhve ha sgsw\n"
     ]
    }
   ],
   "source": [
    "#decode using only single letter frequency\n",
    "singles=substitute_singles(ciphertext,probabilitiesCrime)\n",
    "print(singles[:200])\n",
    "#print(ciphertext[:200])"
   ]
  },
  {
   "cell_type": "code",
   "execution_count": 7,
   "metadata": {},
   "outputs": [
    {
     "name": "stdout",
     "output_type": "stream",
     "text": [
      "[5, 19, 9, 10, 3, 22, 18, 1, 20, 17, 4, 23, 25, 7, 0, 16, 14, 6, 8, 11, 2, 12, 13, 21, 24, 15]\n",
      "the project gutenberg ebook of crime and punishment by fyodor dostoevsky this ebook is for the use of anyone anywhere at no cost and with almost no restrictions whatsoever you may copy it give it away\n"
     ]
    }
   ],
   "source": [
    "#decode using pair frequencies\n",
    "findkey=climb_that_hill(ciphertext,probabilitiesCrime, pairProbsCrime)\n",
    "print(findkey)\n",
    "#print(ciphertext[:200])\n",
    "plaintext=decode_arist(ciphertext,findkey)\n",
    "print(plaintext[:200])"
   ]
  },
  {
   "cell_type": "code",
   "execution_count": 8,
   "metadata": {},
   "outputs": [
    {
     "name": "stdout",
     "output_type": "stream",
     "text": [
      "-9332.27046764331\n",
      "-13564.186366193122\n",
      "-9236.345891058849\n"
     ]
    }
   ],
   "source": [
    "print(log_liklihood_pairs(realtext, probabilitiesCrime, pairProbsCrime))\n",
    "print(log_liklihood_pairs(singles, probabilitiesCrime, pairProbsCrime))\n",
    "print(log_liklihood_pairs(plaintext, probabilitiesCrime, pairProbsCrime))\n"
   ]
  },
  {
   "cell_type": "code",
   "execution_count": 35,
   "metadata": {},
   "outputs": [
    {
     "name": "stdout",
     "output_type": "stream",
     "text": [
      "the project gutenberg ebook of crime and punishment by fyodor dostoevsky this ebook is for the use of anyone anywhere at no cost and with almost no restrictions whatsoever you may copy it give it away or reuse it under the terms of the project gutenberg license included with this ebook or online at wwwgutenbergorg title crime and punishment author fyodor dostoevsky release date march ebook last updated october language english character set encoding utf start of this project gutenberg ebook crime and punishment produced by john bickers and dagny crime and punishment by fyodor dostoevsky translated by constance garnett translators preface a few words about dostoevsky himself may help the english reader to understand his work dostoevsky was the son of a doctor his parents were very hardworking and deeply religious people but so poor that they lived with their five children in only two rooms the father and mother spent their evenings in reading aloud to their children generally from books of a serious character though always sickly and delicate dostoevsky came out third in the final examination of the petersburg school of engineering there he had already begun his first work poor folk this story was published by the poet nekrassov in his review and was received with acclamations the shy unknown youth found himself instantly something of a celebrity a brilliant and successful career seemed to open before him but those hopes were soon dashed in he was arrested though neither by temperament nor conviction a revolutionist dostoevsky was one of a little group of young men who met together to read fourier and proudhon he was accused of taking part in conversations against the censorship of reading a letter from byelinsky to gogol and of knowing of the intention to set up a printing press under nicholas i that stern and just man as maurice baring calls him this was enough and he was condemned to death after eight months imprisonment he was with twentyone others taken out to t\n"
     ]
    }
   ],
   "source": [
    "print(plaintext[:2000])"
   ]
  },
  {
   "cell_type": "code",
   "execution_count": null,
   "metadata": {},
   "outputs": [],
   "source": []
  }
 ],
 "metadata": {
  "kernelspec": {
   "display_name": "Python 3",
   "language": "python",
   "name": "python3"
  },
  "language_info": {
   "codemirror_mode": {
    "name": "ipython",
    "version": 3
   },
   "file_extension": ".py",
   "mimetype": "text/x-python",
   "name": "python",
   "nbconvert_exporter": "python",
   "pygments_lexer": "ipython3",
   "version": "3.7.6"
  }
 },
 "nbformat": 4,
 "nbformat_minor": 4
}
