{
 "cells": [
  {
   "cell_type": "markdown",
   "metadata": {},
   "source": [
    "here imma find the most likely key using a method of random switching to find the best model"
   ]
  },
  {
   "cell_type": "code",
   "execution_count": 13,
   "metadata": {},
   "outputs": [
    {
     "name": "stdout",
     "output_type": "stream",
     "text": [
      "the project gutenberg ebook of crime and punishment by fyodor dostoevsky this ebook is for the use of anyone anywhere at no cost and with almost no restrictions whatsoever you may copy it give it away\n"
     ]
    }
   ],
   "source": [
    "from utils import *\n",
    "crime = open(\"../data/Crime.txt\", \"r\")\n",
    "sample=crime.read(2000)\n",
    "sample=extract_characters(sample)\n",
    "crimeString= crime.read()\n",
    "crimeString=extract_characters(crimeString)\n",
    "freqCrime=freq_array(crimeString)\n",
    "pairProbsCrime=get_pair_freq(crimeString)\n",
    "print(sample[:200])"
   ]
  },
  {
   "cell_type": "code",
   "execution_count": 14,
   "metadata": {},
   "outputs": [
    {
     "name": "stdout",
     "output_type": "stream",
     "text": [
      "1.0000000000000002\n"
     ]
    }
   ],
   "source": [
    "probabilitiesCrime=list(freqCrime)\n",
    "for i in range (len(probabilitiesCrime)):\n",
    "    probabilitiesCrime[i]=probabilitiesCrime[i]/sum(freqCrime)\n",
    "print(sum(probabilitiesCrime))"
   ]
  },
  {
   "cell_type": "code",
   "execution_count": 15,
   "metadata": {},
   "outputs": [],
   "source": [
    "def climb_that_hill(ciphertext,probabilities, pairProbs):\n",
    "    startKey=substitute_singles_key(ciphertext,probabilities)\n",
    "    i=0\n",
    "    while i<20000:\n",
    "        plaintext1=decode_arist(ciphertext,startKey)\n",
    "        liklihood1=log_liklihood_pairs(plaintext1,probabilities,pairProbs)\n",
    "        l1=random.randint(0,25)\n",
    "        l2=random.randint(0,25)\n",
    "        while l2==l1:\n",
    "            l2=random.randint(0,25)\n",
    "        key2=list(startKey)\n",
    "        templetter=int(key2[l1])\n",
    "        key2[l1]=int(key2[l2])\n",
    "        key2[l2]=int(templetter)\n",
    "        plaintext2=decode_arist(ciphertext,key2)\n",
    "        liklihood2=log_liklihood_pairs(plaintext2,probabilities,pairProbs)\n",
    "        if liklihood2>liklihood1:\n",
    "            startKey=list(key2)\n",
    "        else:\n",
    "            i+=1\n",
    "    return startKey"
   ]
  },
  {
   "cell_type": "code",
   "execution_count": 16,
   "metadata": {},
   "outputs": [
    {
     "name": "stdout",
     "output_type": "stream",
     "text": [
      "[2, 7, 24, 21, 11, 10, 18, 13, 25, 9, 6, 22, 17, 15, 1, 23, 19, 16, 4, 20, 0, 14, 5, 8, 12, 3]\n",
      "[105, 29, 47, 63, 184, 35, 40, 79, 99, 5, 24, 48, 32, 116, 144, 32, 0, 109, 105, 138, 46, 19, 29, 1, 40, 0, 323]\n"
     ]
    }
   ],
   "source": [
    "key=get_random_key()\n",
    "print(key)\n",
    "realtext= sample\n",
    "ciphertext=encode_arist(realtext,key)\n",
    "print(freq_array(realtext))"
   ]
  },
  {
   "cell_type": "code",
   "execution_count": 17,
   "metadata": {},
   "outputs": [
    {
     "name": "stdout",
     "output_type": "stream",
     "text": [
      "are fntxeua wmaeobenw ebttv tc unsge iod fmoshrgeoa by cytdtn dthatekhvy arsh ebttv sh ctn are mhe tc ioytoe ioyprene ia ot utha iod psar ilgtha ot nehansuastoh priahteken ytm giy utfy sa wske sa ipiy\n"
     ]
    }
   ],
   "source": [
    "#decode using only single letter frequency\n",
    "singles=substitute_singles(ciphertext,probabilitiesCrime)\n",
    "print(singles[:200])"
   ]
  },
  {
   "cell_type": "code",
   "execution_count": 18,
   "metadata": {},
   "outputs": [
    {
     "name": "stdout",
     "output_type": "stream",
     "text": [
      "[2, 7, 24, 21, 11, 10, 18, 13, 25, 9, 6, 22, 17, 15, 1, 23, 19, 16, 4, 20, 0, 14, 5, 8, 12, 3]\n",
      "the project gutenberg ebook of crime and punishment by fyodor dostoevsky this ebook is for the use of anyone anywhere at no cost and with almost no restrictions whatsoever you may copy it give it away\n"
     ]
    }
   ],
   "source": [
    "#decode using pair frequencies\n",
    "findkey=climb_that_hill(ciphertext,probabilitiesCrime, pairProbsCrime)\n",
    "print(findkey)\n",
    "plaintext=decode_arist(ciphertext,findkey)\n",
    "print(plaintext[:200])"
   ]
  },
  {
   "cell_type": "code",
   "execution_count": 20,
   "metadata": {},
   "outputs": [
    {
     "ename": "IndexError",
     "evalue": "list index out of range",
     "output_type": "error",
     "traceback": [
      "\u001b[0;31m---------------------------------------------------------------------------\u001b[0m",
      "\u001b[0;31mIndexError\u001b[0m                                Traceback (most recent call last)",
      "\u001b[0;32m<ipython-input-20-72c24481e1b2>\u001b[0m in \u001b[0;36m<module>\u001b[0;34m\u001b[0m\n\u001b[0;32m----> 1\u001b[0;31m \u001b[0mprint\u001b[0m\u001b[0;34m(\u001b[0m\u001b[0mlog_liklihood_pairs\u001b[0m\u001b[0;34m(\u001b[0m\u001b[0mrealtext\u001b[0m\u001b[0;34m,\u001b[0m \u001b[0mprobabilitiesCrime\u001b[0m\u001b[0;34m,\u001b[0m \u001b[0mpairProbsCrime\u001b[0m\u001b[0;34m)\u001b[0m\u001b[0;34m)\u001b[0m\u001b[0;34m\u001b[0m\u001b[0;34m\u001b[0m\u001b[0m\n\u001b[0m\u001b[1;32m      2\u001b[0m \u001b[0mprint\u001b[0m\u001b[0;34m(\u001b[0m\u001b[0mlog_liklihood_pairs\u001b[0m\u001b[0;34m(\u001b[0m\u001b[0msingles\u001b[0m\u001b[0;34m,\u001b[0m \u001b[0mprobabilitiesCrime\u001b[0m\u001b[0;34m,\u001b[0m \u001b[0mpairProbsCrime\u001b[0m\u001b[0;34m)\u001b[0m\u001b[0;34m)\u001b[0m\u001b[0;34m\u001b[0m\u001b[0;34m\u001b[0m\u001b[0m\n\u001b[1;32m      3\u001b[0m \u001b[0mprint\u001b[0m\u001b[0;34m(\u001b[0m\u001b[0mlog_liklihood_pairs\u001b[0m\u001b[0;34m(\u001b[0m\u001b[0mplaintext\u001b[0m\u001b[0;34m,\u001b[0m \u001b[0mprobabilitiesCrime\u001b[0m\u001b[0;34m,\u001b[0m \u001b[0mpairProbsCrime\u001b[0m\u001b[0;34m)\u001b[0m\u001b[0;34m)\u001b[0m\u001b[0;34m\u001b[0m\u001b[0;34m\u001b[0m\u001b[0m\n",
      "\u001b[0;32m~/BethSummer/Decoder/notebooks/utils.py\u001b[0m in \u001b[0;36mlog_liklihood_pairs\u001b[0;34m(plaintext, probabilities, pairProbs)\u001b[0m\n\u001b[1;32m    218\u001b[0m     \u001b[0mlogsum\u001b[0m\u001b[0;34m=\u001b[0m\u001b[0mprobabilities\u001b[0m\u001b[0;34m[\u001b[0m\u001b[0mnumList\u001b[0m\u001b[0;34m[\u001b[0m\u001b[0;36m0\u001b[0m\u001b[0;34m]\u001b[0m\u001b[0;34m]\u001b[0m\u001b[0;34m\u001b[0m\u001b[0;34m\u001b[0m\u001b[0m\n\u001b[1;32m    219\u001b[0m     \u001b[0;32mfor\u001b[0m \u001b[0mi\u001b[0m \u001b[0;32min\u001b[0m \u001b[0mrange\u001b[0m \u001b[0;34m(\u001b[0m\u001b[0mlen\u001b[0m\u001b[0;34m(\u001b[0m\u001b[0mnumList\u001b[0m\u001b[0;34m)\u001b[0m\u001b[0;34m-\u001b[0m\u001b[0;36m1\u001b[0m\u001b[0;34m)\u001b[0m\u001b[0;34m:\u001b[0m\u001b[0;34m\u001b[0m\u001b[0;34m\u001b[0m\u001b[0m\n\u001b[0;32m--> 220\u001b[0;31m         \u001b[0mprobs\u001b[0m\u001b[0;34m=\u001b[0m\u001b[0mdictpairs\u001b[0m\u001b[0;34m[\u001b[0m\u001b[0mnumList\u001b[0m\u001b[0;34m[\u001b[0m\u001b[0mi\u001b[0m\u001b[0;34m]\u001b[0m\u001b[0;34m]\u001b[0m\u001b[0;34m[\u001b[0m\u001b[0mnumList\u001b[0m\u001b[0;34m[\u001b[0m\u001b[0mi\u001b[0m\u001b[0;34m+\u001b[0m\u001b[0;36m1\u001b[0m\u001b[0;34m]\u001b[0m\u001b[0;34m]\u001b[0m\u001b[0;34m\u001b[0m\u001b[0;34m\u001b[0m\u001b[0m\n\u001b[0m\u001b[1;32m    221\u001b[0m         \u001b[0mlogsum\u001b[0m\u001b[0;34m=\u001b[0m\u001b[0mlogsum\u001b[0m\u001b[0;34m+\u001b[0m\u001b[0mmath\u001b[0m\u001b[0;34m.\u001b[0m\u001b[0mlog\u001b[0m\u001b[0;34m(\u001b[0m\u001b[0mprobs\u001b[0m\u001b[0;34m)\u001b[0m\u001b[0;34m\u001b[0m\u001b[0;34m\u001b[0m\u001b[0m\n\u001b[1;32m    222\u001b[0m     \u001b[0;32mreturn\u001b[0m\u001b[0;34m(\u001b[0m\u001b[0mlogsum\u001b[0m\u001b[0;34m)\u001b[0m\u001b[0;34m\u001b[0m\u001b[0;34m\u001b[0m\u001b[0m\n",
      "\u001b[0;31mIndexError\u001b[0m: list index out of range"
     ]
    }
   ],
   "source": [
    "print(log_liklihood_pairs(realtext, probabilitiesCrime, pairProbsCrime))\n",
    "print(log_liklihood_pairs(singles, probabilitiesCrime, pairProbsCrime))\n",
    "print(log_liklihood_pairs(plaintext, probabilitiesCrime, pairProbsCrime))\n"
   ]
  },
  {
   "cell_type": "code",
   "execution_count": null,
   "metadata": {},
   "outputs": [],
   "source": []
  }
 ],
 "metadata": {
  "kernelspec": {
   "display_name": "Python 3",
   "language": "python",
   "name": "python3"
  },
  "language_info": {
   "codemirror_mode": {
    "name": "ipython",
    "version": 3
   },
   "file_extension": ".py",
   "mimetype": "text/x-python",
   "name": "python",
   "nbconvert_exporter": "python",
   "pygments_lexer": "ipython3",
   "version": "3.7.6"
  }
 },
 "nbformat": 4,
 "nbformat_minor": 4
}
