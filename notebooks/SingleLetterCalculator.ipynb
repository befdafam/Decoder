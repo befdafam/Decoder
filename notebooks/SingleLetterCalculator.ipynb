{
 "cells": [
  {
   "cell_type": "code",
   "execution_count": 3,
   "metadata": {},
   "outputs": [
    {
     "name": "stdout",
     "output_type": "stream",
     "text": [
      "yoaa pieaaa is yum\n"
     ]
    }
   ],
   "source": [
    "from utils import *\n",
    "print(extract_characters(\"yoaa  pieaaa   is yum\"))"
   ]
  },
  {
   "cell_type": "markdown",
   "metadata": {},
   "source": [
    "**don't run this code it will kill you**\n",
    "\n",
    "import itertools\n",
    "letters=list(range(0, 26))\n",
    "#permutations=list(itertools.permutations(letters, 26))\n",
    "permutations=list(itertools.permutations([0,1,2], 3))\n",
    "def most_likely_key_arist(ciphertext):\n",
    "    maxval=0\n",
    "    bestKey=0\n",
    "    old=0\n",
    "    for i in range (len(permutations)):\n",
    "        new=calc_likelihood_arist_key(ciphertext,permutations[i])\n",
    "        if new>old:\n",
    "            maxval=new\n",
    "            bestKey=permutations[i]\n",
    "        old=new\n",
    "    return bestKey"
   ]
  },
  {
   "cell_type": "code",
   "execution_count": 4,
   "metadata": {},
   "outputs": [
    {
     "name": "stdout",
     "output_type": "stream",
     "text": [
      "[4, 19, 0, 14, 13, 7, 8, 18, 17, 3, 11, 20, 12, 22, 24, 5, 2, 6, 15, 1, 21, 10, 23, 9, 16, 25]\n",
      "26\n"
     ]
    }
   ],
   "source": [
    "#create an array of letter frequencies, called freq, from crime and punishment\n",
    "crime = open(\"../data/Crime.txt\", \"r\")\n",
    "sampleText=crime.read(100000)\n",
    "crimeString= crime.read()\n",
    "crimeString=extract_characters(crimeString)\n",
    "freqCrime=freq_array(crimeString)\n",
    "\n",
    "print (rank_occurrence(sampleText))\n",
    "print (len(rank_occurrence(sampleText)))"
   ]
  },
  {
   "cell_type": "code",
   "execution_count": 5,
   "metadata": {},
   "outputs": [],
   "source": [
    "probabilitiesCrime=list(freqCrime)\n",
    "for i in range (len(probabilitiesCrime)):\n",
    "    probabilitiesCrime[i]=probabilitiesCrime[i]/sum(freqCrime)"
   ]
  },
  {
   "cell_type": "code",
   "execution_count": 5,
   "metadata": {},
   "outputs": [
    {
     "name": "stdout",
     "output_type": "stream",
     "text": [
      "[11, 8, 4, 2, 14, 19, 0, 7, 1, 16, 10, 18, 25, 20, 17, 9, 13, 3, 12, 5, 15, 6, 23, 21, 22, 24]\n",
      "1.1319374117074232e-21\n",
      "[1, 20, 17, 24, 25, 2, 9, 23, 3, 15, 4, 18, 13, 11, 21, 19, 14, 0, 12, 22, 16, 6, 8, 10, 7, 5]\n",
      "2.2922286733764563e-35\n"
     ]
    }
   ],
   "source": [
    "plaintext=\"you've got the eye\"\n",
    "key=get_random_key()\n",
    "print(key)\n",
    "ciphertext=encode_arist(plaintext,key)\n",
    "print(calc_liklihood_arist_key(ciphertext,key,probabilitiesCrime))\n",
    "wrongKey=get_random_key()\n",
    "print(wrongKey)\n",
    "print(calc_liklihood_arist_key(ciphertext,wrongKey,probabilitiesCrime))"
   ]
  },
  {
   "cell_type": "code",
   "execution_count": 6,
   "metadata": {},
   "outputs": [
    {
     "name": "stdout",
     "output_type": "stream",
     "text": [
      "[22, 1, 13, 17, 24, 14, 11, 23, 15, 8, 7, 16, 9, 25, 19, 4, 0, 21, 3, 6, 12, 10, 2, 18, 20, 5]\n"
     ]
    }
   ],
   "source": [
    "sampleKey=get_random_key()\n",
    "print (sampleKey)"
   ]
  },
  {
   "cell_type": "code",
   "execution_count": 7,
   "metadata": {},
   "outputs": [
    {
     "name": "stdout",
     "output_type": "stream",
     "text": [
      "[24, 6, 22, 19, 25, 15, 23, 3, 21, 17, 16, 12, 9, 2, 20, 14, 13, 11, 4, 1, 10, 7, 18, 8, 0, 5]\n",
      "[4, 19, 0, 14, 13, 8, 7, 18, 17, 3, 11, 20, 12, 24, 22, 2, 6, 5, 15, 1, 21, 10, 23, 25, 9, 16]\n",
      "the prozegt futenberf ebook oc grime and punishment bw cwodor dostoevskw this ebook is cor the use oc anwone anwyhere at no gost and yith almost no restrigtions yhatsoever wou maw gopw it five it ayaw\n"
     ]
    }
   ],
   "source": [
    "#the sample text is the beginning of crime and punishment. this tests the substitue method\n",
    "plaintext= sampleText\n",
    "othertext=\"she reason i started this string with a tee is that i am hoping the frequency count will get it right and zoe will be so proud of me if i write even more why is it not finding any of the e i do not know maybe this\"\n",
    "ciphertext=encode_arist(sampleText,sampleKey)\n",
    "print((substitute_singles(ciphertext,probabilitiesCrime))[:200])"
   ]
  },
  {
   "cell_type": "code",
   "execution_count": null,
   "metadata": {},
   "outputs": [],
   "source": []
  }
 ],
 "metadata": {
  "kernelspec": {
   "display_name": "Python 3",
   "language": "python",
   "name": "python3"
  },
  "language_info": {
   "codemirror_mode": {
    "name": "ipython",
    "version": 3
   },
   "file_extension": ".py",
   "mimetype": "text/x-python",
   "name": "python",
   "nbconvert_exporter": "python",
   "pygments_lexer": "ipython3",
   "version": "3.7.6"
  }
 },
 "nbformat": 4,
 "nbformat_minor": 4
}
